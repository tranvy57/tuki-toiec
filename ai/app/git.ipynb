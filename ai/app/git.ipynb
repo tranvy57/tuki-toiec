{
 "cells": [
  {
   "cell_type": "code",
   "execution_count": 1,
   "id": "bc9af0fc",
   "metadata": {},
   "outputs": [
    {
     "name": "stdout",
     "output_type": "stream",
     "text": [
      "Collecting git-filter-repo\n",
      "  Downloading git_filter_repo-2.47.0-py3-none-any.whl.metadata (31 kB)\n",
      "Downloading git_filter_repo-2.47.0-py3-none-any.whl (76 kB)\n",
      "Installing collected packages: git-filter-repo\n",
      "Successfully installed git-filter-repo-2.47.0\n",
      "Note: you may need to restart the kernel to use updated packages.\n"
     ]
    }
   ],
   "source": [
    "%pip install git-filter-repo\n"
   ]
  },
  {
   "cell_type": "code",
   "execution_count": null,
   "id": "4a7657c2",
   "metadata": {},
   "outputs": [],
   "source": [
    "\n"
   ]
  }
 ],
 "metadata": {
  "kernelspec": {
   "display_name": "base",
   "language": "python",
   "name": "python3"
  },
  "language_info": {
   "codemirror_mode": {
    "name": "ipython",
    "version": 3
   },
   "file_extension": ".py",
   "mimetype": "text/x-python",
   "name": "python",
   "nbconvert_exporter": "python",
   "pygments_lexer": "ipython3",
   "version": "3.12.3"
  }
 },
 "nbformat": 4,
 "nbformat_minor": 5
}
